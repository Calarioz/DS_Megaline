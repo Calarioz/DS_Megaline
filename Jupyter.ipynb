{
 "cells": [
  {
   "cell_type": "markdown",
   "metadata": {},
   "source": [
    "## INTRODUCTION\n",
    "\n",
    "The mobile company Megaline is dissatisfied to see that many of its customers are using legacy plans. They want to develop a model that can analyze customer behavior and recommend one of Megaline's new plans: Smart or Ultra.\n",
    "\n",
    "We have access to data on the behavior of subscribers who have already switched to the new plans. For this classification task, we need to create a model that selects the correct plan.\n",
    "\n",
    "This Dataset come from the ___TrippleTen - Data Scientis Course___.\n",
    "\n",
    "___Request___\n",
    "- The accuracy threshold for each model must be greater than 0.75.\n",
    "- Test the 3 basic classifier models"
   ]
  },
  {
   "cell_type": "markdown",
   "metadata": {},
   "source": [
    "## DATA DESCRIPTION\n",
    "\n",
    "users_behavior.csv\n",
    "- calls: The number of calls made by the customer.\n",
    "- minutes: The total duration of the calls in minutes.\n",
    "- messages: The number of text messages sent.\n",
    "- mb_used: The amount of internet traffic used in megabytes (MB).\n",
    "- is_ultra: The plan for the current month (Ultra = 1, Smart = 0)."
   ]
  },
  {
   "cell_type": "code",
   "execution_count": 28,
   "metadata": {},
   "outputs": [],
   "source": [
    "import pandas as pd\n",
    "from sklearn.model_selection import train_test_split \n",
    "from sklearn.tree import DecisionTreeClassifier\n",
    "from sklearn.ensemble import RandomForestClassifier \n",
    "from sklearn.linear_model import LogisticRegression "
   ]
  },
  {
   "cell_type": "code",
   "execution_count": 7,
   "metadata": {},
   "outputs": [],
   "source": [
    "megaline_df = pd.read_csv('users_behavior.csv')"
   ]
  },
  {
   "cell_type": "code",
   "execution_count": 8,
   "metadata": {},
   "outputs": [
    {
     "name": "stdout",
     "output_type": "stream",
     "text": [
      "<class 'pandas.core.frame.DataFrame'>\n",
      "RangeIndex: 3214 entries, 0 to 3213\n",
      "Data columns (total 5 columns):\n",
      " #   Column    Non-Null Count  Dtype  \n",
      "---  ------    --------------  -----  \n",
      " 0   calls     3214 non-null   float64\n",
      " 1   minutes   3214 non-null   float64\n",
      " 2   messages  3214 non-null   float64\n",
      " 3   mb_used   3214 non-null   float64\n",
      " 4   is_ultra  3214 non-null   int64  \n",
      "dtypes: float64(4), int64(1)\n",
      "memory usage: 125.7 KB\n"
     ]
    }
   ],
   "source": [
    "megaline_df.info()"
   ]
  },
  {
   "cell_type": "code",
   "execution_count": 12,
   "metadata": {},
   "outputs": [
    {
     "name": "stdout",
     "output_type": "stream",
     "text": [
      "3214\n"
     ]
    },
    {
     "data": {
      "text/html": [
       "<div>\n",
       "<style scoped>\n",
       "    .dataframe tbody tr th:only-of-type {\n",
       "        vertical-align: middle;\n",
       "    }\n",
       "\n",
       "    .dataframe tbody tr th {\n",
       "        vertical-align: top;\n",
       "    }\n",
       "\n",
       "    .dataframe thead th {\n",
       "        text-align: right;\n",
       "    }\n",
       "</style>\n",
       "<table border=\"1\" class=\"dataframe\">\n",
       "  <thead>\n",
       "    <tr style=\"text-align: right;\">\n",
       "      <th></th>\n",
       "      <th>calls</th>\n",
       "      <th>minutes</th>\n",
       "      <th>messages</th>\n",
       "      <th>mb_used</th>\n",
       "      <th>is_ultra</th>\n",
       "    </tr>\n",
       "  </thead>\n",
       "  <tbody>\n",
       "    <tr>\n",
       "      <th>1402</th>\n",
       "      <td>87.0</td>\n",
       "      <td>637.26</td>\n",
       "      <td>81.0</td>\n",
       "      <td>12511.37</td>\n",
       "      <td>0</td>\n",
       "    </tr>\n",
       "    <tr>\n",
       "      <th>559</th>\n",
       "      <td>27.0</td>\n",
       "      <td>183.80</td>\n",
       "      <td>118.0</td>\n",
       "      <td>27705.14</td>\n",
       "      <td>1</td>\n",
       "    </tr>\n",
       "    <tr>\n",
       "      <th>1808</th>\n",
       "      <td>53.0</td>\n",
       "      <td>370.03</td>\n",
       "      <td>0.0</td>\n",
       "      <td>32581.16</td>\n",
       "      <td>1</td>\n",
       "    </tr>\n",
       "    <tr>\n",
       "      <th>1320</th>\n",
       "      <td>81.0</td>\n",
       "      <td>518.73</td>\n",
       "      <td>71.0</td>\n",
       "      <td>32418.28</td>\n",
       "      <td>1</td>\n",
       "    </tr>\n",
       "    <tr>\n",
       "      <th>278</th>\n",
       "      <td>38.0</td>\n",
       "      <td>304.05</td>\n",
       "      <td>0.0</td>\n",
       "      <td>14252.15</td>\n",
       "      <td>1</td>\n",
       "    </tr>\n",
       "    <tr>\n",
       "      <th>2670</th>\n",
       "      <td>69.0</td>\n",
       "      <td>478.16</td>\n",
       "      <td>66.0</td>\n",
       "      <td>13055.63</td>\n",
       "      <td>0</td>\n",
       "    </tr>\n",
       "    <tr>\n",
       "      <th>2434</th>\n",
       "      <td>45.0</td>\n",
       "      <td>313.72</td>\n",
       "      <td>38.0</td>\n",
       "      <td>14234.41</td>\n",
       "      <td>0</td>\n",
       "    </tr>\n",
       "    <tr>\n",
       "      <th>376</th>\n",
       "      <td>51.0</td>\n",
       "      <td>326.44</td>\n",
       "      <td>16.0</td>\n",
       "      <td>14514.98</td>\n",
       "      <td>0</td>\n",
       "    </tr>\n",
       "    <tr>\n",
       "      <th>1586</th>\n",
       "      <td>50.0</td>\n",
       "      <td>357.58</td>\n",
       "      <td>0.0</td>\n",
       "      <td>13497.97</td>\n",
       "      <td>0</td>\n",
       "    </tr>\n",
       "    <tr>\n",
       "      <th>38</th>\n",
       "      <td>23.0</td>\n",
       "      <td>146.18</td>\n",
       "      <td>33.0</td>\n",
       "      <td>9711.45</td>\n",
       "      <td>0</td>\n",
       "    </tr>\n",
       "  </tbody>\n",
       "</table>\n",
       "</div>"
      ],
      "text/plain": [
       "      calls  minutes  messages   mb_used  is_ultra\n",
       "1402   87.0   637.26      81.0  12511.37         0\n",
       "559    27.0   183.80     118.0  27705.14         1\n",
       "1808   53.0   370.03       0.0  32581.16         1\n",
       "1320   81.0   518.73      71.0  32418.28         1\n",
       "278    38.0   304.05       0.0  14252.15         1\n",
       "2670   69.0   478.16      66.0  13055.63         0\n",
       "2434   45.0   313.72      38.0  14234.41         0\n",
       "376    51.0   326.44      16.0  14514.98         0\n",
       "1586   50.0   357.58       0.0  13497.97         0\n",
       "38     23.0   146.18      33.0   9711.45         0"
      ]
     },
     "execution_count": 12,
     "metadata": {},
     "output_type": "execute_result"
    }
   ],
   "source": [
    "print(megaline_df.duplicated().count())\n",
    "megaline_df.sample(10)"
   ]
  },
  {
   "cell_type": "markdown",
   "metadata": {},
   "source": [
    "Remarks\n",
    "\n",
    "- It is not possible to determine whether there are duplicates in the dataframe simply based on the given data, so it will be assumed that there are no duplicates.\n",
    "- There are no missing values.\n",
    "- By convention, the columns calls and messages will be converted to int64.\n",
    "- The target in this case will be is_ultra, which is categorical, so models for continuous values will be discarded.\n",
    "- The features in this case will be calls, minutes, messages, and mb_used."
   ]
  },
  {
   "cell_type": "markdown",
   "metadata": {},
   "source": [
    "## PRE-PROCESSING"
   ]
  },
  {
   "cell_type": "code",
   "execution_count": 16,
   "metadata": {},
   "outputs": [],
   "source": [
    "# Modifying Datatypes\n",
    "megaline_df['calls'] = megaline_df['calls'].astype('int64')\n",
    "megaline_df['messages'] = megaline_df['messages'].astype('int64')"
   ]
  },
  {
   "cell_type": "markdown",
   "metadata": {},
   "source": [
    "## DATA SEGMENTATION\n",
    "\n",
    "Data Segmentation - Training (60%) - Validation (20%) - Test (20%)"
   ]
  },
  {
   "cell_type": "code",
   "execution_count": 18,
   "metadata": {},
   "outputs": [
    {
     "name": "stdout",
     "output_type": "stream",
     "text": [
      "From 100% of the data, the following was selected:\n",
      "59.99% for training.\n",
      "20.01% for validation.\n",
      "20.01% for testing.\n"
     ]
    }
   ],
   "source": [
    "total = megaline_df['calls'].count()\n",
    "\n",
    "# Getting 20%  (test)\n",
    "df_remaining, df_test = train_test_split(megaline_df,test_size=0.20, random_state=1996)\n",
    "\n",
    "# Getting 60% (Training) and 20% (Validation) \n",
    "df_train, df_valid = train_test_split(df_remaining,test_size=0.25, random_state=1996)\n",
    "\n",
    "#Comprobamos que se dividió correctamente la población\n",
    "train_pct = round((df_train['calls'].count() / total) *100,2)\n",
    "valid_pct = round((df_valid['calls'].count() / total) *100,2)\n",
    "test_pct = round((df_test['calls'].count() / total) *100,2)\n",
    "print(f\"From 100% of the data, the following was selected:\\n{train_pct}% for training.\\n{valid_pct}% for validation.\\n{test_pct}% for testing.\")"
   ]
  },
  {
   "cell_type": "code",
   "execution_count": 20,
   "metadata": {},
   "outputs": [],
   "source": [
    "# Getting features and trainings\n",
    "\n",
    "#Train\n",
    "feature_train = df_train.drop('is_ultra',axis = 1)\n",
    "target_train = df_train['is_ultra']\n",
    "\n",
    "#Validation\n",
    "feature_valid = df_valid.drop('is_ultra',axis = 1)\n",
    "target_valid = df_valid['is_ultra']\n",
    "\n",
    "#Test\n",
    "feature_test = df_test.drop('is_ultra',axis = 1)\n",
    "target_test = df_test['is_ultra']"
   ]
  },
  {
   "cell_type": "markdown",
   "metadata": {},
   "source": [
    "## TRAINING MODELS"
   ]
  },
  {
   "cell_type": "markdown",
   "metadata": {},
   "source": [
    "### Decision Tree"
   ]
  },
  {
   "cell_type": "code",
   "execution_count": 36,
   "metadata": {},
   "outputs": [
    {
     "name": "stdout",
     "output_type": "stream",
     "text": [
      "Best score:0.7962674961119751,\n",
      "Best depth:5\n"
     ]
    }
   ],
   "source": [
    "b_depth = 0\n",
    "b_score = 0\n",
    "\n",
    "for depth in range(1,50):  \n",
    "    model_dtc = DecisionTreeClassifier(random_state=1996, max_depth=depth) \n",
    "    model_dtc.fit(feature_train,target_train)\n",
    "\n",
    "    score_dtc = model_dtc.score(feature_valid,target_valid)\n",
    "    if score_dtc > b_score:\n",
    "        b_score = score_dtc\n",
    "        b_depth = depth\n",
    "\n",
    "print(f'Best score:{b_score},\\nBest depth:{b_depth}')"
   ]
  },
  {
   "cell_type": "code",
   "execution_count": 41,
   "metadata": {},
   "outputs": [
    {
     "name": "stdout",
     "output_type": "stream",
     "text": [
      "Accuracy: 0.7962674961119751\n"
     ]
    }
   ],
   "source": [
    "# Configuring the model with the optimal hyperparameters identified\n",
    "model_dtc = DecisionTreeClassifier(random_state=1996, max_depth=5) \n",
    "model_dtc.fit(feature_train,target_train)\n",
    "valid_score_dtc = model_dtc.score(feature_valid,target_valid)\n",
    "\n",
    "print(f\"Accuracy: {valid_score_dtc}\")"
   ]
  },
  {
   "cell_type": "code",
   "execution_count": 42,
   "metadata": {},
   "outputs": [
    {
     "name": "stdout",
     "output_type": "stream",
     "text": [
      "Accuracy : 0.7807153965785381\n"
     ]
    }
   ],
   "source": [
    "# Testing the model\n",
    "test_score_dtc = model_dtc.score(feature_test,target_test)\n",
    "print(f\"Accuracy : {test_score_dtc}\")\n"
   ]
  },
  {
   "cell_type": "markdown",
   "metadata": {},
   "source": [
    "Remarks\n",
    "\n",
    "- During an iteration of the model, the best score obtained was 0.796 for the validation set, using a depth: 6.\n",
    "- When using the test model, the accuracy decreased by only about 0.1%, meaning that the selected parameters managed to exceed the 75% test threshold."
   ]
  },
  {
   "cell_type": "markdown",
   "metadata": {},
   "source": [
    "### Random Forest"
   ]
  },
  {
   "cell_type": "code",
   "execution_count": 26,
   "metadata": {},
   "outputs": [
    {
     "name": "stdout",
     "output_type": "stream",
     "text": [
      "Best score:0.8133748055987559,\n",
      "Estimator:41\n",
      "Best depth:6\n"
     ]
    }
   ],
   "source": [
    "# Settings\n",
    "b_est = 0.0001\n",
    "b_depth = 0\n",
    "b_model = None\n",
    "b_score = 0\n",
    "\n",
    "for est in range (1,100,10):\n",
    "    for depth in range(1,20):\n",
    "        model_rfc = RandomForestClassifier(random_state=1996, n_estimators=est, max_depth = depth)\n",
    "        model_rfc.fit(feature_train,target_train)\n",
    "        score_rfc = model_rfc.score(feature_valid,target_valid)\n",
    "        if score_rfc > b_score:\n",
    "            b_score = score_rfc\n",
    "            b_est = est\n",
    "            b_depth = depth\n",
    "            \n",
    "\n",
    "print(f'Best score:{b_score},\\nEstimator:{b_est}\\nBest depth:{b_depth}')"
   ]
  },
  {
   "cell_type": "code",
   "execution_count": null,
   "metadata": {},
   "outputs": [
    {
     "name": "stdout",
     "output_type": "stream",
     "text": [
      "Accuracy: 0.8133748055987559\n"
     ]
    }
   ],
   "source": [
    "# Configuring the model with the optimal hyperparameters identified\n",
    "model_rfc = RandomForestClassifier(random_state=1996, n_estimators=41, max_depth = 6)\n",
    "model_rfc.fit(feature_train,target_train)\n",
    "valid_score_rfc = model_rfc.score(feature_valid,target_valid)\n",
    "print(f\"Accuracy: {valid_score_rfc}\")"
   ]
  },
  {
   "cell_type": "code",
   "execution_count": 38,
   "metadata": {},
   "outputs": [
    {
     "name": "stdout",
     "output_type": "stream",
     "text": [
      "Accuracy : 0.80248833592535\n"
     ]
    }
   ],
   "source": [
    "# Testing model\n",
    "test_score_rfc = model_rfc.score(feature_test,target_test)\n",
    "print(f\"Accuracy : {test_score_rfc}\")"
   ]
  },
  {
   "cell_type": "markdown",
   "metadata": {},
   "source": [
    "Remarks\n",
    "\n",
    "- During an iteration of the model, the best score obtained was 0.813 for the validation set, using n_estimators: 41 and max_depth: 6.\n",
    "- When using the test model, the accuracy decreased by only about 0.1%, meaning that the selected parameters managed to exceed the 75% test threshold."
   ]
  },
  {
   "cell_type": "markdown",
   "metadata": {},
   "source": [
    "### Logistic Regression"
   ]
  },
  {
   "cell_type": "code",
   "execution_count": 24,
   "metadata": {},
   "outputs": [
    {
     "name": "stdout",
     "output_type": "stream",
     "text": [
      "Exactitud de: 0.702954898911353\n"
     ]
    }
   ],
   "source": [
    "# # Configuring the model with the optimal hyperparameters identified\n",
    "model_lr = LogisticRegression(random_state=1996, solver='liblinear') \n",
    "model_lr.fit(feature_train,target_train)\n",
    "valid_score_lr = model_lr.score(feature_valid,target_valid)\n",
    "print(f\"Exactitud de: {valid_score_lr}\")"
   ]
  },
  {
   "cell_type": "code",
   "execution_count": 43,
   "metadata": {},
   "outputs": [
    {
     "name": "stdout",
     "output_type": "stream",
     "text": [
      "Exactitud de: 0.7169517884914464\n"
     ]
    }
   ],
   "source": [
    "# Testing model\n",
    "test_score_lr = model_lr.score(feature_test,target_test)\n",
    "print(f\"Exactitud de: {test_score_lr}\")"
   ]
  },
  {
   "cell_type": "markdown",
   "metadata": {},
   "source": [
    "Remarks\n",
    "- In this case, we obtained an accuracy lower than requested, which indicates that this model may not be very useful. However, it is important to consider that when testing the model, the accuracy increased by approximately 0.1% as well."
   ]
  },
  {
   "cell_type": "markdown",
   "metadata": {},
   "source": [
    "## FINAL CONCLUTION"
   ]
  },
  {
   "cell_type": "code",
   "execution_count": 48,
   "metadata": {},
   "outputs": [
    {
     "data": {
      "text/html": [
       "<div>\n",
       "<style scoped>\n",
       "    .dataframe tbody tr th:only-of-type {\n",
       "        vertical-align: middle;\n",
       "    }\n",
       "\n",
       "    .dataframe tbody tr th {\n",
       "        vertical-align: top;\n",
       "    }\n",
       "\n",
       "    .dataframe thead th {\n",
       "        text-align: right;\n",
       "    }\n",
       "</style>\n",
       "<table border=\"1\" class=\"dataframe\">\n",
       "  <thead>\n",
       "    <tr style=\"text-align: right;\">\n",
       "      <th></th>\n",
       "      <th>Acc_Valid</th>\n",
       "      <th>Acc_Test</th>\n",
       "    </tr>\n",
       "  </thead>\n",
       "  <tbody>\n",
       "    <tr>\n",
       "      <th>RandomForest</th>\n",
       "      <td>0.813375</td>\n",
       "      <td>0.802488</td>\n",
       "    </tr>\n",
       "    <tr>\n",
       "      <th>DecitionTree</th>\n",
       "      <td>0.796267</td>\n",
       "      <td>0.780715</td>\n",
       "    </tr>\n",
       "    <tr>\n",
       "      <th>LogisticRegression</th>\n",
       "      <td>0.702955</td>\n",
       "      <td>0.716952</td>\n",
       "    </tr>\n",
       "  </tbody>\n",
       "</table>\n",
       "</div>"
      ],
      "text/plain": [
       "                    Acc_Valid  Acc_Test\n",
       "RandomForest         0.813375  0.802488\n",
       "DecitionTree         0.796267  0.780715\n",
       "LogisticRegression   0.702955  0.716952"
      ]
     },
     "execution_count": 48,
     "metadata": {},
     "output_type": "execute_result"
    }
   ],
   "source": [
    "index = ['DecisionTree','RandomForest','LogisticRegression']\n",
    "values = [[valid_score_dtc,test_score_dtc],[valid_score_rfc,test_score_rfc],[valid_score_lr,test_score_lr]]\n",
    "metrics = ['Acc_Valid','Acc_Test']\n",
    "summary = pd.DataFrame(values, columns = metrics, index = index )\n",
    "\n",
    "summary.sort_values(by='Acc_Test',ascending=False)"
   ]
  },
  {
   "cell_type": "markdown",
   "metadata": {},
   "source": [
    "In conclusion, the model that best fits this task is the ___random forest___, considering that the parameters for the best result are ___trees: 41___, with the default value being 100, and ___depth: 6___. We can determine that this model has a good accuracy with a set of parameters that are not too high, which could affect both the processing speed of the system and the execution time to obtain the calculations."
   ]
  }
 ],
 "metadata": {
  "kernelspec": {
   "display_name": "Python 3",
   "language": "python",
   "name": "python3"
  },
  "language_info": {
   "codemirror_mode": {
    "name": "ipython",
    "version": 3
   },
   "file_extension": ".py",
   "mimetype": "text/x-python",
   "name": "python",
   "nbconvert_exporter": "python",
   "pygments_lexer": "ipython3",
   "version": "3.11.9"
  }
 },
 "nbformat": 4,
 "nbformat_minor": 2
}
